{
 "cells": [
  {
   "cell_type": "code",
   "execution_count": 16,
   "id": "d1bd1dfb-d3cc-4839-877a-fccc1c426004",
   "metadata": {},
   "outputs": [],
   "source": [
    "import os\n",
    "import pandas as pd\n",
    "import pandas.api.types as ptypes\n",
    "import numpy as np\n",
    "import datetime as dt\n",
    "flights_df_raw = pd.read_csv('assets/flights.csv', low_memory=False)\n",
    "airports_df = pd.read_csv('assets/airports.csv')\n",
    "airlines_df = pd.read_csv('assets/airlines.csv')\n",
    "\n"
   ]
  },
  {
   "cell_type": "code",
   "execution_count": 17,
   "id": "d10ac19d-d822-480c-aac2-eff4a6dc4683",
   "metadata": {},
   "outputs": [
    {
     "name": "stdout",
     "output_type": "stream",
     "text": [
      "        ORIGIN_AIRPORT DESTINATION_AIRPORT AIRLINE FLIGHT_NUMBER  \\\n",
      "0                  LAX                 PBI      AA          2336   \n",
      "1                  SFO                 CLT      US           840   \n",
      "2                  LAX                 MIA      AA           258   \n",
      "4                  SFO                 MSP      DL           806   \n",
      "6                  LAX                 CLT      US          2013   \n",
      "...                ...                 ...     ...           ...   \n",
      "2966762            LAX                 ORD      AA           219   \n",
      "2966766            LAX                 BOS      B6           688   \n",
      "2966767            JFK                 PSE      B6           745   \n",
      "2966768            JFK                 SJU      B6          1503   \n",
      "2966770            JFK                 BQN      B6           839   \n",
      "\n",
      "        SCHEDULED_DEPARTURE  DEPARTURE_DELAY  IS_DELAYED  \n",
      "0       2015-01-01 00:10:00             -8.0       False  \n",
      "1       2015-01-01 00:20:00             -2.0       False  \n",
      "2       2015-01-01 00:20:00             -5.0       False  \n",
      "4       2015-01-01 00:25:00             -5.0       False  \n",
      "6       2015-01-01 00:30:00             14.0       False  \n",
      "...                     ...              ...         ...  \n",
      "2966762 2015-12-31 23:59:00             -1.0       False  \n",
      "2966766 2015-12-31 23:59:00             -4.0       False  \n",
      "2966767 2015-12-31 23:59:00             -4.0       False  \n",
      "2966768 2015-12-31 23:59:00             -9.0       False  \n",
      "2966770 2015-12-31 23:59:00             15.0        True  \n",
      "\n",
      "[535744 rows x 7 columns]\n",
      "Number of rows: 535744\n"
     ]
    }
   ],
   "source": [
    "def data_preprocess(flights_df):\n",
    "\n",
    "   \n",
    "    df = flights_df.dropna(axis=0)\n",
    "    airports = ['BOS', 'JFK', 'SFO', 'LAX']\n",
    "    df = df[df[\"ORIGIN_AIRPORT\"].isin(airports)]\n",
    "    df = df[df['DEPARTURE_DELAY'] <= 1440]\n",
    "    df[\"FLIGHT_NUMBER\"] = df[\"FLIGHT_NUMBER\"].astype(str)\n",
    "    df['IS_DELAYED'] = df['DEPARTURE_DELAY'] >= 15\n",
    "    \n",
    "    def convert_to_datetime(row):\n",
    "        time_str = str(int(row[\"SCHEDULED_DEPARTURE\"])).zfill(4)\n",
    "        hour = int(time_str[:2])\n",
    "        minute = int(time_str[2:])\n",
    "        return dt.datetime(row['YEAR'], row['MONTH'], row['DAY'], hour, minute)\n",
    "    \n",
    "    df['SCHEDULED_DEPARTURE'] = df.apply(convert_to_datetime, axis=1)\n",
    "    df = df.drop(columns=['YEAR', 'MONTH', 'DAY'])\n",
    "        \n",
    "        \n",
    "    \n",
    "\n",
    "    \n",
    "\n",
    "    return df\n",
    "flights_df=data_preprocess(flights_df_raw)\n",
    "print(flights_df)\n",
    "print(\"Number of rows:\", len(flights_df))"
   ]
  },
  {
   "cell_type": "code",
   "execution_count": 13,
   "id": "3c42773b-7a24-40bc-9fbc-5908edf69b9e",
   "metadata": {},
   "outputs": [
    {
     "data": {
      "text/html": [
       "<div>\n",
       "<style scoped>\n",
       "    .dataframe tbody tr th:only-of-type {\n",
       "        vertical-align: middle;\n",
       "    }\n",
       "\n",
       "    .dataframe tbody tr th {\n",
       "        vertical-align: top;\n",
       "    }\n",
       "\n",
       "    .dataframe thead th {\n",
       "        text-align: right;\n",
       "    }\n",
       "</style>\n",
       "<table border=\"1\" class=\"dataframe\">\n",
       "  <thead>\n",
       "    <tr style=\"text-align: right;\">\n",
       "      <th></th>\n",
       "      <th>NUM_FLIGHTS</th>\n",
       "    </tr>\n",
       "    <tr>\n",
       "      <th>IATA_CODE</th>\n",
       "      <th></th>\n",
       "    </tr>\n",
       "  </thead>\n",
       "  <tbody>\n",
       "    <tr>\n",
       "      <th>BOS</th>\n",
       "      <td>105276</td>\n",
       "    </tr>\n",
       "    <tr>\n",
       "      <th>JFK</th>\n",
       "      <td>91933</td>\n",
       "    </tr>\n",
       "    <tr>\n",
       "      <th>LAX</th>\n",
       "      <td>192584</td>\n",
       "    </tr>\n",
       "    <tr>\n",
       "      <th>SFO</th>\n",
       "      <td>145951</td>\n",
       "    </tr>\n",
       "  </tbody>\n",
       "</table>\n",
       "</div>"
      ],
      "text/plain": [
       "           NUM_FLIGHTS\n",
       "IATA_CODE             \n",
       "BOS             105276\n",
       "JFK              91933\n",
       "LAX             192584\n",
       "SFO             145951"
      ]
     },
     "execution_count": 13,
     "metadata": {},
     "output_type": "execute_result"
    }
   ],
   "source": [
    "def flights_per_airport(flights_df, airports_df):\n",
    " \n",
    "    flights_df=data_preprocess(flights_df_raw)\n",
    "    df= pd.merge(flights_df,airports_df, left_on='ORIGIN_AIRPORT', right_on='IATA_CODE')\n",
    "    df=df.groupby(['IATA_CODE']).size().reset_index(name=\"NUM_FLIGHTS\")\n",
    "    df = df.set_index('IATA_CODE')\n",
    "\n",
    "    return df\n",
    "flights_per_airport(flights_df, airports_df)\n"
   ]
  },
  {
   "cell_type": "code",
   "execution_count": 14,
   "id": "c55ff1d7-1aba-4a13-9535-9e9228692e59",
   "metadata": {},
   "outputs": [
    {
     "name": "stdout",
     "output_type": "stream",
     "text": [
      "             AIRLINE_NAME  NUM_FLIGHTS  PERC_DELAY\n",
      "0   United Air Lines Inc.      86562.0   23.265405\n",
      "1         JetBlue Airways      85920.0   20.798417\n",
      "2  American Airlines Inc.      77024.0   15.351059\n"
     ]
    }
   ],
   "source": [
    "def top_three_airlines(flights_df, airlines_df):\n",
    "\n",
    "    flights_df=data_preprocess(flights_df_raw)\n",
    "   \n",
    "\n",
    "    df = pd.merge(flights_df, airlines_df, left_on='AIRLINE', right_on='IATA_CODE', suffixes=('_flights', '_airlines'))\n",
    "    \n",
    "    df_grouped = df.groupby(\"IATA_CODE\").apply(lambda x: pd.Series({\n",
    "        'NUM_FLIGHTS': len(x),\n",
    "        'PERC_DELAY': (x['DEPARTURE_DELAY'] >= 15).mean() * 100\n",
    "    })).reset_index()\n",
    "    \n",
    "    df_merged = pd.merge(df_grouped, airlines_df[['IATA_CODE', 'AIRLINE']], on='IATA_CODE')\n",
    "    df_merged.rename(columns={'AIRLINE':'AIRLINE_NAME'},inplace= True)\n",
    "    sorted_airlines = df_merged.sort_values(by=['NUM_FLIGHTS', 'PERC_DELAY'], ascending=[False, True])\n",
    "    \n",
    "    top_three = pd.DataFrame(sorted_airlines[['AIRLINE_NAME', 'NUM_FLIGHTS', 'PERC_DELAY']].head(3).reset_index(drop=True))\n",
    "    \n",
    "    return top_three\n",
    "\n",
    "\n",
    "delays = top_three_airlines(flights_df, airlines_df)\n",
    "print(delays)"
   ]
  },
  {
   "cell_type": "code",
   "execution_count": 15,
   "id": "1f666821-7c8b-42ad-b476-4be87cffbf59",
   "metadata": {},
   "outputs": [
    {
     "name": "stdout",
     "output_type": "stream",
     "text": [
      "        MONTH     BOS     JFK     LAX     SFO\n",
      "0     January  0.1902  0.2257  0.1738  0.2001\n",
      "1    February  0.3248  0.3174  0.1978  0.2222\n",
      "2       March  0.1984  0.2736  0.2246  0.1770\n",
      "3       April  0.1553  0.2020  0.1855  0.1756\n",
      "4         May  0.1552  0.1552  0.1990  0.2297\n",
      "5        June  0.2032  0.1938  0.2474  0.2374\n",
      "6        July  0.1968  0.2019  0.2772  0.2430\n",
      "7      August  0.1988  0.1985  0.2289  0.2118\n",
      "8   September  0.1274  0.1506  0.1486  0.1399\n",
      "9    November  0.1177  0.1383  0.1741  0.1565\n",
      "10   December  0.1982  0.2563  0.2627  0.2990\n"
     ]
    }
   ],
   "source": [
    "def monthly_airport_delays(flights_df):\n",
    "   \n",
    "    flights_df = data_preprocess(flights_df_raw)\n",
    "    flights_df['MONTH'] = flights_df['SCHEDULED_DEPARTURE'].dt.month_name()\n",
    "\n",
    "    monthly_delays = flights_df.groupby(['MONTH', 'ORIGIN_AIRPORT']).agg(\n",
    "        TOTAL_FLIGHTS=('IS_DELAYED', 'count'),\n",
    "        DELAYED_FLIGHTS=('IS_DELAYED', 'sum')\n",
    "    ).reset_index()\n",
    "\n",
    "    monthly_delays['PERCENT_DELAY'] = (monthly_delays['DELAYED_FLIGHTS'] / monthly_delays['TOTAL_FLIGHTS']) \n",
    "\n",
    "    df = monthly_delays.pivot(index='MONTH', columns='ORIGIN_AIRPORT', values='PERCENT_DELAY')\n",
    "    df.columns.name = None\n",
    "    df.reset_index(inplace=True)\n",
    "\n",
    "    months_order = ['January', 'February', 'March', 'April', 'May', 'June', \n",
    "                    'July', 'August', 'September', 'October', 'November', 'December']\n",
    "    df['MONTH'] = pd.Categorical(df['MONTH'], categories=months_order, ordered=True)\n",
    "    \n",
    "    df.sort_values('MONTH', inplace=True)\n",
    "    \n",
    "    df.reset_index(drop=True,inplace=True)\n",
    "    \n",
    "    df['MONTH'] = df['MONTH'].astype(str)\n",
    "    \n",
    "    df.iloc[:, 1:] = df.iloc[:, 1:].round(4)\n",
    "\n",
    "\n",
    "\n",
    "    return df\n",
    "print(monthly_airport_delays(flights_df))"
   ]
  },
  {
   "cell_type": "code",
   "execution_count": null,
   "id": "eebe51ea-a106-4fd9-a633-d76cda30f8bc",
   "metadata": {},
   "outputs": [],
   "source": []
  },
  {
   "cell_type": "code",
   "execution_count": null,
   "id": "6cb71e1e-53ca-4fc0-8810-3ca37ad1a0e4",
   "metadata": {},
   "outputs": [],
   "source": []
  },
  {
   "cell_type": "code",
   "execution_count": null,
   "id": "179526ea-341e-434b-a17f-46f155d1f660",
   "metadata": {},
   "outputs": [],
   "source": []
  },
  {
   "cell_type": "code",
   "execution_count": null,
   "id": "59d84c73-874b-403e-8443-4714264c3b10",
   "metadata": {},
   "outputs": [],
   "source": []
  }
 ],
 "metadata": {
  "firstTimeUsingHintbot": true,
  "kernelspec": {
   "display_name": "Python 3 (ipykernel)",
   "language": "python",
   "name": "python3"
  },
  "language_info": {
   "codemirror_mode": {
    "name": "ipython",
    "version": 3
   },
   "file_extension": ".py",
   "mimetype": "text/x-python",
   "name": "python",
   "nbconvert_exporter": "python",
   "pygments_lexer": "ipython3",
   "version": "3.9.13"
  }
 },
 "nbformat": 4,
 "nbformat_minor": 5
}
